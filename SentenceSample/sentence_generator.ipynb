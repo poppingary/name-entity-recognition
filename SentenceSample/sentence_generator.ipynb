{
  "nbformat": 4,
  "nbformat_minor": 0,
  "metadata": {
    "colab": {
      "name": "sentence_generator.ipynb",
      "provenance": [],
      "collapsed_sections": [],
      "include_colab_link": true
    },
    "kernelspec": {
      "name": "python3",
      "display_name": "Python 3"
    },
    "language_info": {
      "name": "python"
    }
  },
  "cells": [
    {
      "cell_type": "markdown",
      "metadata": {
        "id": "view-in-github",
        "colab_type": "text"
      },
      "source": [
        "<a href=\"https://colab.research.google.com/github/poppingary/name-entity-recognition/blob/main/SentenceSample/sentence_generator.ipynb\" target=\"_parent\"><img src=\"https://colab.research.google.com/assets/colab-badge.svg\" alt=\"Open In Colab\"/></a>"
      ]
    },
    {
      "cell_type": "code",
      "metadata": {
        "colab": {
          "base_uri": "https://localhost:8080/"
        },
        "id": "YFBdSLWo4fyM",
        "outputId": "a218a8bb-764e-4a3e-c1ef-214745f0b97a"
      },
      "source": [
        "from google.colab import drive\n",
        "drive.mount('/content/drive')"
      ],
      "execution_count": null,
      "outputs": [
        {
          "output_type": "stream",
          "name": "stdout",
          "text": [
            "Mounted at /content/drive\n"
          ]
        }
      ]
    },
    {
      "cell_type": "code",
      "metadata": {
        "colab": {
          "base_uri": "https://localhost:8080/"
        },
        "id": "NGo1ot_KeK7h",
        "outputId": "d144645a-2791-41ae-ff55-1a475e51be4a"
      },
      "source": [
        "string_of_sentences = ''\n",
        "sentence_template_list = []\n",
        "sentence_template = open('/content/drive/MyDrive/IntroToMachineLearning_workspace/sentence_sample/sentence_template/hard_sentences_template.txt', 'r')\n",
        "\n",
        "while True:\n",
        "    line = sentence_template.readline()\n",
        "\n",
        "    if not line:\n",
        "        break\n",
        "    string_of_sentences = string_of_sentences + line\n",
        "\n",
        "sentence_template.close()\n",
        "\n",
        "sentence_template_list = string_of_sentences.split('.')\n",
        "\n",
        "clean_sentence_template_list = []\n",
        "for sentence_template in sentence_template_list:\n",
        "  clean_sentence_template = sentence_template.replace('\\ufeff', '').replace('\\n', '')\n",
        "  clean_sentence_template_list.append(clean_sentence_template)\n",
        "\n",
        "print(clean_sentence_template_list)"
      ],
      "execution_count": null,
      "outputs": [
        {
          "output_type": "stream",
          "name": "stdout",
          "text": [
            "['Semifinals (on Saturday): Fung Permadi (Taiwan) v *', \"NCAA AMERICAN FOOTBALL-OHIO STATE'S * FIRST REPEAT LOMBARDI AWARD WINNER\", 'Karlsruhe 3 (Reich 29th , Carl 44th , * 69th) Freiburg 0', 'SOCCER - WEAH HEAD-BUTT DEPRIVES PORTUGAL OF *', \"*'s office-Conservatives still have a majority\", 'It was the second attack by skinheads in two years on *, an American', \"The official TASR news agency said the explosion blew out all ground floor windows of *'s family home in Galanta, western Slovakia, and damaged the main entrance, but no one was injured\", \"Alatas said the government's position on the Nobel Peace Prize would have been different if it had been awarded solely to *\", 'Dealers have come to refer to 115 yen as the \"* ceiling\" for the dollar following the remark', 'A * distributing presents to workers in a German bank on Friday nearly ended up behind bars when a passing police patrol thought he was a robber in disguise', \"Relations between Chancellor of the Exchequer Kenneth Clarke and Prime Minister John Major are good despite media reports of a rift over European policy, a spokesman for *'s office said on Friday\", 'Four others were wounded in the clash, caused by a blood feud between two families, the * and *, serving as state-paid village guards against Kurdish rebels', '\" Halverson announced that he had received today from Mr', ' John Vance Langmore, a letter resigning his place as a member of the House of Representatives for the electoral division of * in the Australian Capital Territory, \" his office said in a statement', \"Bre-X has a partnership deal with PT Panutan Duta of the Panutan Group run by President Suharto's eldest son, Sigit Harjojudanto, under which * would receive $ 40 million over 40 months plus a 10 percent stake Busang's richest parts\", '* managed Ireland for 93 matches, during which time they lost only 17 times in almost 10 years until he resigned in December 1995', '']\n"
          ]
        }
      ]
    },
    {
      "cell_type": "code",
      "metadata": {
        "id": "DT_b2XWy8cB7"
      },
      "source": [
        "popular_name_list = []\n",
        "popular_name = open('/content/drive/MyDrive/IntroToMachineLearning_workspace/sentence_sample/name_sample/unpopular_names.txt', 'r')\n",
        "\n",
        "while True:\n",
        "    line = popular_name.readline()\n",
        "\n",
        "    if not line:\n",
        "        break\n",
        "    popular_name_list.append(line.replace('\\n', ''))\n",
        "\n",
        "popular_name.close()"
      ],
      "execution_count": null,
      "outputs": []
    },
    {
      "cell_type": "code",
      "metadata": {
        "id": "ku31ubLucAE_"
      },
      "source": [
        "easy_sentence_with_popular_names = open('/content/drive/MyDrive/IntroToMachineLearning_workspace/sentence_sample/hard_sentence_with_unpopular_names.txt', 'w')\n",
        "\n",
        "result_list = []\n",
        "for popular_name in popular_name_list:\n",
        "  for sentence_template in sentence_template_list:\n",
        "    final_sentence = sentence_template.replace('*', popular_name)\n",
        "    result_list.append(final_sentence + '\\n')\n",
        "\n",
        "for sentence in result_list:\n",
        "  easy_sentence_with_popular_names.write(sentence)\n",
        "\n",
        "easy_sentence_with_popular_names.close()"
      ],
      "execution_count": null,
      "outputs": []
    }
  ]
}